{
 "cells": [
  {
   "cell_type": "code",
   "execution_count": 3,
   "metadata": {},
   "outputs": [],
   "source": [
    "# import required libraries\n",
    "import os\n",
    "\n",
    "# A generic function to split the input .csv file into multiple output .csv files\n",
    "\"\"\"\n",
    "You can pass some other parameters while calling the function for e.g.:\n",
    "    filehandler = open('test.csv', 'r')              ---- the filehandler parameter\n",
    "    delimiter = ','                                  ---- the delimiter to be used\n",
    "    row_limit = '100'                                ---- the row limit for splitting the files\n",
    "    output_name_template = 'output_%s.csv'           ---- the output file name '%s' will be replaced by 1,2,3\n",
    "    output_path = 'E:/ABC/XYZ/'                      ---- for same folder pass '.'\n",
    "    keep_headers = True/False                        ---- if you want to keep the header in each file or not \n",
    "\"\"\"\n",
    "def split_csv(filehandler, delimiter=',', row_limit=10000,\n",
    "          output_name_template='output_%s.csv', output_path='.', keep_headers=True):\n",
    "    import csv\n",
    "    reader = csv.reader(filehandler, delimiter=delimiter)\n",
    "    current_piece = 1\n",
    "    current_out_path = os.path.join(\n",
    "        output_path,\n",
    "        output_name_template % current_piece\n",
    "    )\n",
    "    current_out_writer = csv.writer(open(current_out_path, 'w', newline=''), delimiter=delimiter)\n",
    "    current_limit = row_limit\n",
    "    if keep_headers:\n",
    "        headers = next(reader)\n",
    "        current_out_writer.writerow(headers)\n",
    "    for i, row in enumerate(reader):\n",
    "        if i + 1 > current_limit:            \n",
    "            current_piece += 1\n",
    "            current_limit = row_limit * current_piece\n",
    "            current_out_path = os.path.join(\n",
    "                output_path,\n",
    "                output_name_template % current_piece\n",
    "            )\n",
    "            current_out_writer = csv.writer(open(current_out_path, 'w', newline=''), delimiter=delimiter)\n",
    "            if keep_headers:\n",
    "                current_out_writer.writerow(headers)\n",
    "        current_out_writer.writerow(row)"
   ]
  },
  {
   "cell_type": "code",
   "execution_count": 4,
   "metadata": {},
   "outputs": [],
   "source": [
    "# Calling the split_csv() function, you may call the similar way from external script\n",
    "if __name__ == '__main__':\n",
    "    split_csv(open('test.csv', 'r'));"
   ]
  },
  {
   "cell_type": "code",
   "execution_count": null,
   "metadata": {},
   "outputs": [],
   "source": []
  }
 ],
 "metadata": {
  "kernelspec": {
   "display_name": "Python 3",
   "language": "python",
   "name": "python3"
  },
  "language_info": {
   "codemirror_mode": {
    "name": "ipython",
    "version": 3
   },
   "file_extension": ".py",
   "mimetype": "text/x-python",
   "name": "python",
   "nbconvert_exporter": "python",
   "pygments_lexer": "ipython3",
   "version": "3.7.4"
  }
 },
 "nbformat": 4,
 "nbformat_minor": 2
}
